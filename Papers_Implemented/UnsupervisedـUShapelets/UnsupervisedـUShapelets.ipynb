{
  "nbformat": 4,
  "nbformat_minor": 0,
  "metadata": {
    "colab": {
      "name": "UnsupervisedـUShapelets.ipynb",
      "provenance": [],
      "collapsed_sections": [],
      "authorship_tag": "ABX9TyPrLbtRu0FC5bY7FvrsQFTC",
      "include_colab_link": true
    },
    "kernelspec": {
      "name": "python3",
      "display_name": "Python 3"
    },
    "language_info": {
      "name": "python"
    },
    "accelerator": "TPU"
  },
  "cells": [
    {
      "cell_type": "markdown",
      "metadata": {
        "id": "view-in-github",
        "colab_type": "text"
      },
      "source": [
        "<a href=\"https://colab.research.google.com/github/AmirHDehghan/Projects/blob/main/Papers_Implemented/Unsupervised%D9%80UShapelets/Unsupervised%D9%80UShapelets.ipynb\" target=\"_parent\"><img src=\"https://colab.research.google.com/assets/colab-badge.svg\" alt=\"Open In Colab\"/></a>"
      ]
    },
    {
      "cell_type": "code",
      "metadata": {
        "id": "EyPEDQCQiOpH"
      },
      "source": [
        "import numpy as np\n",
        "import pandas as pd\n",
        "from sklearn.preprocessing import StandardScaler\n",
        "from scipy.stats import zscore"
      ],
      "execution_count": null,
      "outputs": []
    },
    {
      "cell_type": "code",
      "metadata": {
        "id": "xqskvO8ZzdKn"
      },
      "source": [
        "def Compute_distance(candidate_shapelets, dataset):\n",
        "  distance = np.array([])\n",
        "  candidate_shapelets = zscore(candidate_shapelets) #z_normalize the candidate_shapelets\n",
        "  for lend in range(len(dataset.shape[0])):\n",
        "    time_s = dataset[lend, :]\n",
        "    distancel = float(\"inf\")\n",
        "    for posn in range(len(time_s) - len(candidate_shapelets) + 1):\n",
        "      z = zscore(time_s[posn * len(candidate_shapelets)])\n",
        "      d = np.linalg.norm(z - candidate_shapelets)\n",
        "      distance = np.append(distance, min(d, distancel))\n",
        "  return distance/np.sqrt(len(candidate_shapelets))"
      ],
      "execution_count": null,
      "outputs": []
    },
    {
      "cell_type": "code",
      "metadata": {
        "id": "Yop7HvwTtmpQ"
      },
      "source": [
        "def Compute_gap(candidate_shapelets, dataset, cluster_num):\n",
        "  distance = Compute_distance(candidate_shapelets, dataset)\n",
        "  distance = np.sort(distance)\n",
        "  max_gap = 0;\n",
        "  dt = 0\n",
        "\n",
        "  for d_loc in range(1, len(distance)):\n",
        "    d = (distance[d_loc] + distance[d_loc + 1])/2\n",
        "    d_a = distance[np.where(distance < d)]\n",
        "    d_b = distance[np.where(distance > d)]\n",
        "    d_ratio = len(d_a)/len(d_b)\n",
        "    if (cluster_num < d_ratio < (1-1/cluster_num)):     # K: number of clusters\n",
        "      ua = np.mean(distance[d_a])\n",
        "      ub = np.mean(distance[d_b])\n",
        "      sta = np.std(distance[d_a])\n",
        "      stb = np.std(distance[d_b])\n",
        "\n",
        "      gap = ub - stb - (ua + sta)\n",
        "\n",
        "      if gap > max_gap:\n",
        "        max_gap = gap\n",
        "        dt = d\n",
        "\n",
        "  return max_gap, dt"
      ],
      "execution_count": null,
      "outputs": []
    },
    {
      "cell_type": "code",
      "metadata": {
        "id": "JSPbLJU7gUGI"
      },
      "source": [
        "def Extract_UShapelets(dataset, shapelets_len):\n",
        "  \n",
        "  set_of_u_shapelets = []\n",
        "  time_series = dataset[0,:]\n",
        "\n",
        "  while True:\n",
        "    set_of_subsequences = np.array([])\n",
        "    count = 0\n",
        "    gap = np.array([])\n",
        "    dt = np.array([])\n",
        "\n",
        "    for slen in range(shapelets_len):\n",
        "      for win in range(len(time_series) - slen + 1):\n",
        "        set_of_subsequences = np.append(set_of_subsequences ,time_series[win:win+slen -1])\n",
        "        # Compute Gap \n",
        "        gapp, dtt = Compute_gap(candidate_shapelets= set_of_subsequences[count], dataset= dataset, cluster_num= 5)\n",
        "        gap = np.append(gap, gapp)\n",
        "        dt = np.append(dt, dtt)\n",
        "        count +=1\n",
        "    index1 = np.where(gap = max(gap))[0]\n",
        "    set_of_u_shapelets = np.append(set_of_u_shapelets, set_of_subsequences(index1))\n",
        "    # Compute Distance\n",
        "    distance = Compute_distance(set_of_subsequences(index1), dataset)\n",
        "\n",
        "    d_a = distance[np.where(distance < dt)[0]]\n",
        "\n",
        "    if len(d_a) == 1:\n",
        "      break\n",
        "    else:\n",
        "      index2 = np.where(distance = max(distance))[0]\n",
        "      time_series = dataset[index2,:]\n",
        "      theta = np.mean(Compute_distance(d_a, dataset)) +  np.std(Compute_distance(d_a, dataset))\n",
        "      dataset = np.delete(dataset, np.where(distance < theta)[0])\n",
        "  return set_of_u_shapelets"
      ],
      "execution_count": null,
      "outputs": []
    }
  ]
}