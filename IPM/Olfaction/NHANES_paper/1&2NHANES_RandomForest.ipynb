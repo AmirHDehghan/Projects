{
  "nbformat": 4,
  "nbformat_minor": 0,
  "metadata": {
    "colab": {
      "name": "1&2NHANES-RandomForest.ipynb",
      "provenance": [],
      "collapsed_sections": [],
      "authorship_tag": "ABX9TyPCKyM8AiYDQX91mi6mTk9D",
      "include_colab_link": true
    },
    "kernelspec": {
      "name": "python3",
      "display_name": "Python 3"
    },
    "language_info": {
      "name": "python"
    }
  },
  "cells": [
    {
      "cell_type": "markdown",
      "metadata": {
        "id": "view-in-github",
        "colab_type": "text"
      },
      "source": [
        "<a href=\"https://colab.research.google.com/github/AmirHDehghan/Projects/blob/main/IPM/Olfaction/NHANES_paper/1%262NHANES_RandomForest.ipynb\" target=\"_parent\"><img src=\"https://colab.research.google.com/assets/colab-badge.svg\" alt=\"Open In Colab\"/></a>"
      ]
    },
    {
      "cell_type": "code",
      "metadata": {
        "id": "X03x3-2XuJo2",
        "colab": {
          "resources": {
            "http://localhost:8080/nbextensions/google.colab/files.js": {
              "data": "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",
              "ok": true,
              "headers": [
                [
                  "content-type",
                  "application/javascript"
                ]
              ],
              "status": 200,
              "status_text": ""
            }
          },
          "base_uri": "https://localhost:8080/",
          "height": 185
        },
        "outputId": "5c014d22-a9af-419d-a0ce-bf5867c15906"
      },
      "source": [
        "import numpy as np\n",
        "import matplotlib.pyplot as plt\n",
        "import pandas as pd\n",
        "\n",
        "from google.colab import files\n",
        "uploaded = files.upload()\n",
        "uploaded2 = files.upload()\n",
        "uploaded3 = files.upload()\n",
        "\n",
        "import io\n",
        "dataset = pd.read_csv(io.BytesIO(uploaded['SPIT_data.csv']))\n",
        "dataset2 = pd.read_csv(io.BytesIO(uploaded2['SPIT_data2.csv']))\n",
        "dataset3 = pd.read_csv(io.BytesIO(uploaded3['UPSIT_data.csv']))"
      ],
      "execution_count": null,
      "outputs": [
        {
          "output_type": "display_data",
          "data": {
            "text/html": [
              "\n",
              "     <input type=\"file\" id=\"files-eaaf2e22-6cd2-43de-90bc-1d784437ea3d\" name=\"files[]\" multiple disabled\n",
              "        style=\"border:none\" />\n",
              "     <output id=\"result-eaaf2e22-6cd2-43de-90bc-1d784437ea3d\">\n",
              "      Upload widget is only available when the cell has been executed in the\n",
              "      current browser session. Please rerun this cell to enable.\n",
              "      </output>\n",
              "      <script src=\"/nbextensions/google.colab/files.js\"></script> "
            ],
            "text/plain": [
              "<IPython.core.display.HTML object>"
            ]
          },
          "metadata": {}
        },
        {
          "output_type": "stream",
          "name": "stdout",
          "text": [
            "Saving SPIT_data.csv to SPIT_data (1).csv\n"
          ]
        },
        {
          "output_type": "display_data",
          "data": {
            "text/html": [
              "\n",
              "     <input type=\"file\" id=\"files-9ef8445a-3cb2-448b-9ca4-0b43214f147f\" name=\"files[]\" multiple disabled\n",
              "        style=\"border:none\" />\n",
              "     <output id=\"result-9ef8445a-3cb2-448b-9ca4-0b43214f147f\">\n",
              "      Upload widget is only available when the cell has been executed in the\n",
              "      current browser session. Please rerun this cell to enable.\n",
              "      </output>\n",
              "      <script src=\"/nbextensions/google.colab/files.js\"></script> "
            ],
            "text/plain": [
              "<IPython.core.display.HTML object>"
            ]
          },
          "metadata": {}
        },
        {
          "output_type": "stream",
          "name": "stdout",
          "text": [
            "Saving SPIT_data2.csv to SPIT_data2 (1).csv\n"
          ]
        },
        {
          "output_type": "display_data",
          "data": {
            "text/html": [
              "\n",
              "     <input type=\"file\" id=\"files-81fdcf23-bf9a-416e-90ea-3e2ad201e9fb\" name=\"files[]\" multiple disabled\n",
              "        style=\"border:none\" />\n",
              "     <output id=\"result-81fdcf23-bf9a-416e-90ea-3e2ad201e9fb\">\n",
              "      Upload widget is only available when the cell has been executed in the\n",
              "      current browser session. Please rerun this cell to enable.\n",
              "      </output>\n",
              "      <script src=\"/nbextensions/google.colab/files.js\"></script> "
            ],
            "text/plain": [
              "<IPython.core.display.HTML object>"
            ]
          },
          "metadata": {}
        },
        {
          "output_type": "stream",
          "name": "stdout",
          "text": [
            "Saving UPSIT_data.csv to UPSIT_data.csv\n"
          ]
        }
      ]
    },
    {
      "cell_type": "code",
      "metadata": {
        "id": "6W_xffHJ-Paj",
        "colab": {
          "base_uri": "https://localhost:8080/",
          "height": 282
        },
        "outputId": "d9c3e0a2-4083-48a2-8209-1ee8bc65a4ae"
      },
      "source": [
        "# Finding Best training/test proportion regarding to Accuracy\n",
        "\n",
        "# Importing the libraries\n",
        "\n",
        "\n",
        "# Importing the dataset\n",
        "#dataset = pd.read_csv(uploaded)\n",
        "dataset.sample(frac=1)\n",
        "X = dataset.iloc[:, [5, 6, 7, 8, 9, 10, 11, 12, 13]].values\n",
        "y = dataset.iloc[:, 3].values\n",
        "\n",
        "poses = []\n",
        "neges = []\n",
        "kol = []\n",
        "# Splitting the dataset into the Training set and Test set\n",
        "from sklearn.model_selection import train_test_split\n",
        "from sklearn.preprocessing import StandardScaler\n",
        "from sklearn.ensemble import RandomForestClassifier\n",
        "from sklearn.metrics import confusion_matrix\n",
        "\n",
        "for i in range(5,100):\n",
        "\n",
        "  X_train, X_test, y_train, y_test = train_test_split(X, y, test_size = i*0.01, random_state = 0)\n",
        "\n",
        "  # Feature Scaling\n",
        "\n",
        "  sc = StandardScaler()\n",
        "  X_train = sc.fit_transform(X_train)\n",
        "  X_test = sc.transform(X_test)\n",
        "\n",
        "  # Training the Random Forest Classification model on the Training set\n",
        "\n",
        "  classifier = RandomForestClassifier(n_estimators = 1000, criterion = 'entropy', random_state = 0)\n",
        "  classifier.fit(X_train, y_train)\n",
        "\n",
        "  # Predicting the Test set results\n",
        "  y_pred = classifier.predict(X_test)\n",
        "\n",
        "  # Making the Confusion Matrix\n",
        "\n",
        "  cm = np.matrix(confusion_matrix(y_test, y_pred))\n",
        "  \n",
        "  pos = np.diagonal(cm).sum()\n",
        "  neg = np.fliplr(cm).diagonal().sum()\n",
        "  \n",
        "  poses.append(pos)\n",
        "  neges.append(neg)\n",
        "  kol.append(pos/(pos+neg))\n",
        "\n",
        "plt.plot(range(1, len(kol)+1), kol)\n",
        "\n",
        "# # Visualising the Training set results\n",
        "# from matplotlib.colors import ListedColormap\n",
        "# X_set, y_set = X_train, y_train\n",
        "# X1, X2 = np.meshgrid(np.arange(start = X_set[:, 0].min() - 1, stop = X_set[:, 0].max() + 1, step = 0.01),\n",
        "#                      np.arange(start = X_set[:, 1].min() - 1, stop = X_set[:, 1].max() + 1, step = 0.01))\n",
        "# plt.contourf(X1, X2, classifier.predict(np.array([X1.ravel(), X2.ravel()]).T).reshape(X1.shape),\n",
        "#              alpha = 0.75, cmap = ListedColormap(('red', 'green')))\n",
        "# plt.xlim(X1.min(), X1.max())\n",
        "# plt.ylim(X2.min(), X2.max())\n",
        "# for i, j in enumerate(np.unique(y_set)):\n",
        "#     plt.scatter(X_set[y_set == j, 0], X_set[y_set == j, 1],\n",
        "#                 c = ListedColormap(('red', 'green'))(i), label = j)\n",
        "# plt.title('Random Forest Classification (Training set)')\n",
        "# plt.xlabel('Age')\n",
        "# plt.ylabel('Estimated Salary')\n",
        "# plt.legend()\n",
        "# plt.show()\n",
        "\n"
      ],
      "execution_count": null,
      "outputs": [
        {
          "output_type": "execute_result",
          "data": {
            "text/plain": [
              "[<matplotlib.lines.Line2D at 0x7fb31e1024d0>]"
            ]
          },
          "metadata": {},
          "execution_count": 12
        },
        {
          "output_type": "display_data",
          "data": {
            "image/png": "[encoded data removed]",
            "text/plain": [
              "<Figure size 432x288 with 1 Axes>"
            ]
          },
          "metadata": {
            "needs_background": "light"
          }
        }
      ]
    },
    {
      "cell_type": "code",
      "metadata": {
        "colab": {
          "base_uri": "https://localhost:8080/",
          "height": 285
        },
        "id": "PocAFK2Je3f6",
        "outputId": "d7e6670d-2747-41e0-cc1c-2f83ce588fed"
      },
      "source": [
        "# Finding Best training/test proportion regarding to PPV\n",
        "\n",
        "# Importing the libraries\n",
        "\n",
        "\n",
        "# Importing the dataset\n",
        "#dataset = pd.read_csv(uploaded)\n",
        "dataset.sample(frac=1)\n",
        "X = dataset.iloc[:, [5, 6, 7, 8, 9, 10, 11, 12, 13]].values\n",
        "y = dataset.iloc[:, 3].values\n",
        "\n",
        "Tposes = []\n",
        "Fposes = []\n",
        "Pkol = []\n",
        "# Splitting the dataset into the Training set and Test set\n",
        "from sklearn.model_selection import train_test_split\n",
        "from sklearn.preprocessing import StandardScaler\n",
        "from sklearn.ensemble import RandomForestClassifier\n",
        "from sklearn.metrics import confusion_matrix\n",
        "\n",
        "for i in range(5,100):\n",
        "\n",
        "  X_train, X_test, y_train, y_test = train_test_split(X, y, test_size = i*0.01, random_state = 0)\n",
        "\n",
        "  # Feature Scaling\n",
        "\n",
        "  sc = StandardScaler()\n",
        "  X_train = sc.fit_transform(X_train)\n",
        "  X_test = sc.transform(X_test)\n",
        "\n",
        "  # Training the Random Forest Classification model on the Training set\n",
        "\n",
        "  classifier = RandomForestClassifier(n_estimators = 1000, criterion = 'entropy', random_state = 0)\n",
        "  classifier.fit(X_train, y_train)\n",
        "\n",
        "  # Predicting the Test set results\n",
        "  y_pred = classifier.predict(X_test)\n",
        "\n",
        "  # Making the Confusion Matrix\n",
        "\n",
        "  cm = np.matrix(confusion_matrix(y_test, y_pred))\n",
        "  \n",
        "  Tpos = cm[0,0]\n",
        "  Fpos = cm[1,0]\n",
        "  \n",
        "  Tposes.append(Tpos)\n",
        "  Fposes.append(Fpos)\n",
        "  Pkol.append(Tpos/(Tpos+Fpos))\n",
        "\n",
        "plt.plot(range(1, len(Pkol)+1), Pkol)\n",
        "\n",
        "# # Visualising the Training set results\n",
        "# from matplotlib.colors import ListedColormap\n",
        "# X_set, y_set = X_train, y_train\n",
        "# X1, X2 = np.meshgrid(np.arange(start = X_set[:, 0].min() - 1, stop = X_set[:, 0].max() + 1, step = 0.01),\n",
        "#                      np.arange(start = X_set[:, 1].min() - 1, stop = X_set[:, 1].max() + 1, step = 0.01))\n",
        "# plt.contourf(X1, X2, classifier.predict(np.array([X1.ravel(), X2.ravel()]).T).reshape(X1.shape),\n",
        "#              alpha = 0.75, cmap = ListedColormap(('red', 'green')))\n",
        "# plt.xlim(X1.min(), X1.max())\n",
        "# plt.ylim(X2.min(), X2.max())\n",
        "# for i, j in enumerate(np.unique(y_set)):\n",
        "#     plt.scatter(X_set[y_set == j, 0], X_set[y_set == j, 1],\n",
        "#                 c = ListedColormap(('red', 'green'))(i), label = j)\n",
        "# plt.title('Random Forest Classification (Training set)')\n",
        "# plt.xlabel('Age')\n",
        "# plt.ylabel('Estimated Salary')\n",
        "# plt.legend()\n",
        "# plt.show()\n",
        "\n"
      ],
      "execution_count": null,
      "outputs": [
        {
          "output_type": "execute_result",
          "data": {
            "text/plain": [
              "[<matplotlib.lines.Line2D at 0x7fb31e048410>]"
            ]
          },
          "metadata": {},
          "execution_count": 13
        },
        {
          "output_type": "display_data",
          "data": {
            "image/png": "[encoded data removed]",
            "text/plain": [
              "<Figure size 432x288 with 1 Axes>"
            ]
          },
          "metadata": {
            "needs_background": "light"
          }
        }
      ]
    },
    {
      "cell_type": "markdown",
      "metadata": {
        "id": "YsX06tmV-saN"
      },
      "source": [
        "NPV:"
      ]
    },
    {
      "cell_type": "code",
      "metadata": {
        "colab": {
          "base_uri": "https://localhost:8080/",
          "height": 486
        },
        "id": "e1Pb8FCZ-vcH",
        "outputId": "e2aac639-1a5c-4956-d043-0212c038804a"
      },
      "source": [
        "# Finding Best training/test proportion regarding to NPV\n",
        "\n",
        "# Importing the libraries\n",
        "\n",
        "\n",
        "# Importing the dataset\n",
        "#dataset = pd.read_csv(uploaded)\n",
        "dataset.sample(frac=1)\n",
        "X = dataset.iloc[:, [5, 6, 7, 8, 9, 10, 11, 12, 13]].values\n",
        "y = dataset.iloc[:, 3].values\n",
        "\n",
        "Tneges = []\n",
        "Fneges = []\n",
        "Pkol = []\n",
        "# Splitting the dataset into the Training set and Test set\n",
        "from sklearn.model_selection import train_test_split\n",
        "from sklearn.preprocessing import StandardScaler\n",
        "from sklearn.ensemble import RandomForestClassifier\n",
        "from sklearn.metrics import confusion_matrix\n",
        "\n",
        "for i in range(5,100):\n",
        "\n",
        "  X_train, X_test, y_train, y_test = train_test_split(X, y, test_size = i*0.01, random_state = 0)\n",
        "\n",
        "  # Feature Scaling\n",
        "\n",
        "  sc = StandardScaler()\n",
        "  X_train = sc.fit_transform(X_train)\n",
        "  X_test = sc.transform(X_test)\n",
        "\n",
        "  # Training the Random Forest Classification model on the Training set\n",
        "\n",
        "  classifier = RandomForestClassifier(n_estimators = 1000, criterion = 'entropy', random_state = 0)\n",
        "  classifier.fit(X_train, y_train)\n",
        "\n",
        "  # Predicting the Test set results\n",
        "  y_pred = classifier.predict(X_test)\n",
        "\n",
        "  # Making the Confusion Matrix\n",
        "\n",
        "  cm = np.matrix(confusion_matrix(y_test, y_pred))\n",
        "  \n",
        "  Tneg = cm[1,1]\n",
        "  Fneg = cm[0,1]\n",
        "  \n",
        "  Tneges.append(Tneg)\n",
        "  Fneges.append(Fneg)\n",
        "  Pkol.append(Tneg/(Tneg+Fneg))\n",
        "\n",
        "plt.plot(range(1, len(Pkol)+1), Pkol)\n",
        "\n"
      ],
      "execution_count": null,
      "outputs": [
        {
          "output_type": "stream",
          "name": "stderr",
          "text": [
            "/usr/local/lib/python3.7/dist-packages/ipykernel_launcher.py:48: RuntimeWarning: invalid value encountered in long_scalars\n",
            "/usr/local/lib/python3.7/dist-packages/ipykernel_launcher.py:48: RuntimeWarning: invalid value encountered in long_scalars\n",
            "/usr/local/lib/python3.7/dist-packages/ipykernel_launcher.py:48: RuntimeWarning: invalid value encountered in long_scalars\n",
            "/usr/local/lib/python3.7/dist-packages/ipykernel_launcher.py:48: RuntimeWarning: invalid value encountered in long_scalars\n",
            "/usr/local/lib/python3.7/dist-packages/ipykernel_launcher.py:48: RuntimeWarning: invalid value encountered in long_scalars\n",
            "/usr/local/lib/python3.7/dist-packages/ipykernel_launcher.py:48: RuntimeWarning: invalid value encountered in long_scalars\n",
            "/usr/local/lib/python3.7/dist-packages/ipykernel_launcher.py:48: RuntimeWarning: invalid value encountered in long_scalars\n",
            "/usr/local/lib/python3.7/dist-packages/ipykernel_launcher.py:48: RuntimeWarning: invalid value encountered in long_scalars\n",
            "/usr/local/lib/python3.7/dist-packages/ipykernel_launcher.py:48: RuntimeWarning: invalid value encountered in long_scalars\n",
            "/usr/local/lib/python3.7/dist-packages/ipykernel_launcher.py:48: RuntimeWarning: invalid value encountered in long_scalars\n",
            "/usr/local/lib/python3.7/dist-packages/ipykernel_launcher.py:48: RuntimeWarning: invalid value encountered in long_scalars\n",
            "/usr/local/lib/python3.7/dist-packages/ipykernel_launcher.py:48: RuntimeWarning: invalid value encountered in long_scalars\n"
          ]
        },
        {
          "output_type": "execute_result",
          "data": {
            "text/plain": [
              "[<matplotlib.lines.Line2D at 0x7f5c9057d910>]"
            ]
          },
          "metadata": {},
          "execution_count": 8
        },
        {
          "output_type": "display_data",
          "data": {
            "image/png": "[encoded data removed]",
            "text/plain": [
              "<Figure size 432x288 with 1 Axes>"
            ]
          },
          "metadata": {
            "needs_background": "light"
          }
        }
      ]
    },
    {
      "cell_type": "code",
      "metadata": {
        "colab": {
          "base_uri": "https://localhost:8080/"
        },
        "id": "slxKIa3UU9Cd",
        "outputId": "061a0887-4dc0-4f04-8f3f-98843b765d1b"
      },
      "source": [
        "# Random Forest Classification\n",
        "\n",
        "# Importing the libraries\n",
        "\n",
        "\n",
        "# Importing the dataset\n",
        "#dataset = pd.read_csv(uploaded)\n",
        "dataset.sample(frac=1)\n",
        "X = dataset.iloc[:, [6, 7, 8, 9, 10, 11, 12, 13]].values\n",
        "y = dataset.iloc[:, 3].values\n",
        "\n",
        "# Splitting the dataset into the Training set and Test set\n",
        "from sklearn.model_selection import train_test_split\n",
        "from sklearn.preprocessing import StandardScaler\n",
        "from sklearn.ensemble import RandomForestClassifier\n",
        "from sklearn.metrics import confusion_matrix\n",
        "import random\n",
        "\n",
        "\n",
        "X_train, X_test, y_train, y_test = train_test_split(X, y, test_size = 0.40, random_state = 0)\n",
        "\n",
        "Tposes = []\n",
        "Fposes = []\n",
        "Tneges = []\n",
        "Fneges = []\n",
        "\n",
        "# Feature Scaling\n",
        "\n",
        "sc = StandardScaler()\n",
        "X_train = sc.fit_transform(X_train)\n",
        "X_test = sc.transform(X_test)\n",
        "\n",
        "# Training the Random Forest Classification model on the Training set\n",
        "\n",
        "classifier = RandomForestClassifier(n_estimators = 1000, criterion = 'entropy', random_state = 0)\n",
        "classifier.fit(X_train, y_train)\n",
        "\n",
        "# Predicting the Test set results\n",
        "y_pred = classifier.predict(X_test)\n",
        "\n",
        "# Making the Confusion Matrix\n",
        "\n",
        "cm = np.matrix(confusion_matrix(y_test, y_pred))\n",
        "\n",
        "Tpos = cm[0,0]\n",
        "Fpos = cm[1,0]\n",
        "Tneg = cm[1,1]\n",
        "Fneg = cm[0,1]\n",
        "\n",
        "Tposes.append(Tpos)\n",
        "Fposes.append(Fpos)\n",
        "Tneges.append(Tneg)\n",
        "Fneges.append(Fneg)\n",
        "\n",
        "acc = (Tneg + Tpos)/(Tpos + Fpos + Tneg + Fneg)\n",
        "PPV = Tpos / (Tpos + Fpos)\n",
        "NPV = Tneg / (Tneg + Fneg)\n",
        "print(\"Accuracy: \", acc)\n",
        "print(\"PPV: \", PPV)\n",
        "print(\"NPV: \", NPV)\n",
        "\n",
        "# # Visualising the Training set results\n",
        "# from matplotlib.colors import ListedColormap\n",
        "# X_set, y_set = X_train, y_train\n",
        "# X1, X2 = np.meshgrid(np.arange(start = X_set[:, 0].min() - 1, stop = X_set[:, 0].max() + 1, step = 0.01),\n",
        "#                      np.arange(start = X_set[:, 1].min() - 1, stop = X_set[:, 1].max() + 1, step = 0.01))\n",
        "# plt.contourf(X1, X2, classifier.predict(np.array([X1.ravel(), X2.ravel()]).T).reshape(X1.shape),\n",
        "#              alpha = 0.75, cmap = ListedColormap(('red', 'green')))\n",
        "# plt.xlim(X1.min(), X1.max())\n",
        "# plt.ylim(X2.min(), X2.max())\n",
        "# for i, j in enumerate(np.unique(y_set)):\n",
        "#     plt.scatter(X_set[y_set == j, 0], X_set[y_set == j, 1],\n",
        "#                 c = ListedColormap(('red', 'green'))(i), label = j)\n",
        "# plt.title('Random Forest Classification (Training set)')\n",
        "# plt.xlabel('Age')\n",
        "# plt.ylabel('Estimated Salary')\n",
        "# plt.legend()\n",
        "# plt.show()\n",
        "\n"
      ],
      "execution_count": null,
      "outputs": [
        {
          "output_type": "stream",
          "name": "stdout",
          "text": [
            "Accuracy:  0.90625\n",
            "PPV:  0.9102564102564102\n",
            "NPV:  0.75\n"
          ]
        }
      ]
    },
    {
      "cell_type": "code",
      "metadata": {
        "colab": {
          "base_uri": "https://localhost:8080/"
        },
        "id": "CN1a6aSKHScL",
        "outputId": "79a732fa-069d-4418-9446-3cc878b7d57c"
      },
      "source": [
        "X2 = dataset2.iloc[:, [6, 7, 8, 9, 10, 11, 12, 13]].values\n",
        "y2 = dataset2.iloc[:, 3].values\n",
        "\n",
        "sc = StandardScaler()\n",
        "\n",
        "X_test = sc.fit_transform(X2)\n",
        "\n",
        "y_pred = classifier.predict(X_test)\n",
        "\n",
        "cm = np.matrix(confusion_matrix(y2, y_pred))\n",
        "\n",
        "Tpos = cm[0,0]\n",
        "Fpos = cm[1,0]\n",
        "Tneg = cm[1,1]\n",
        "Fneg = cm[0,1]\n",
        "\n",
        "Tposes.append(Tpos)\n",
        "Fposes.append(Fpos)\n",
        "Tneges.append(Tneg)\n",
        "Fneges.append(Fneg)\n",
        "\n",
        "acc = (Tneg + Tpos)/(Tpos + Fpos + Tneg + Fneg)\n",
        "PPV = Tpos / (Tpos + Fpos)\n",
        "\n",
        "print(\"Accuracy: \", acc)\n",
        "print(\"PPV: \", PPV)\n"
      ],
      "execution_count": null,
      "outputs": [
        {
          "output_type": "stream",
          "name": "stdout",
          "text": [
            "Accuracy:  0.9102564102564102\n",
            "PPV:  0.9210526315789473\n"
          ]
        }
      ]
    },
    {
      "cell_type": "code",
      "metadata": {
        "colab": {
          "base_uri": "https://localhost:8080/"
        },
        "id": "jxxrY_2AA9_C",
        "outputId": "6a76e954-96d8-444b-f9a4-1f0507b5d8b2"
      },
      "source": [
        "X3 = dataset3.iloc[:, [9, 11,16,17,19,33,37,38]].values\n",
        "y3 = dataset3.iloc[:, 41].values\n",
        "\n",
        "sc = StandardScaler()\n",
        "\n",
        "X_test3 = sc.fit_transform(X3)\n",
        "\n",
        "y_pred3 = classifier.predict(X_test3)\n",
        "\n",
        "cm = np.matrix(confusion_matrix(y3, y_pred3))\n",
        "\n",
        "Tpos = cm[0,0]\n",
        "Fpos = cm[1,0]\n",
        "Tneg = cm[1,1]\n",
        "Fneg = cm[0,1]\n",
        "\n",
        "Tposes.append(Tpos)\n",
        "Fposes.append(Fpos)\n",
        "Tneges.append(Tneg)\n",
        "Fneges.append(Fneg)\n",
        "\n",
        "acc = (Tneg + Tpos)/(Tpos + Fpos + Tneg + Fneg)\n",
        "PPV = Tpos / (Tpos + Fpos)\n",
        "TPN = Tneg/ (Tneg / Fneg)\n",
        "\n",
        "print(\"Accuracy: \", acc)\n",
        "print(\"PPV: \", PPV)\n",
        "print(\"NPV: \", NPV)\n"
      ],
      "execution_count": null,
      "outputs": [
        {
          "output_type": "stream",
          "name": "stdout",
          "text": [
            "Accuracy:  0.6583333333333333\n",
            "PPV:  0.6318181818181818\n",
            "NPV:  0.75\n"
          ]
        }
      ]
    },
    {
      "cell_type": "code",
      "metadata": {
        "colab": {
          "base_uri": "https://localhost:8080/",
          "height": 406
        },
        "id": "mDqcrgJ2NSIe",
        "outputId": "3a705251-6377-44d1-95a3-39619b71ff17"
      },
      "source": [
        "from sklearn.feature_selection import SelectFromModel\n",
        "\n",
        "sel = SelectFromModel(estimator = RandomForestClassifier(n_estimators = 100))\n",
        "sel.fit(X_train, y_train)\n",
        "\n",
        "print(\"Coefficients Of Features: \", sel.estimator_.feature_importances_)\n",
        "print(\"Threshold: \", sel.threshold_)\n",
        "\n",
        "sel.get_support()\n",
        "print(sel.get_support())\n",
        "print()\n",
        "\n",
        "odors = [\"Leather\", \"Onion\", \"Grapes\", \"Strawberry\", \"Chocolate\", \"Smoke\", \"Soap\", \"Natural Gas\"]\n",
        "selected_feat = pd.DataFrame(data=X_train, columns= odors)\n",
        "                  \n",
        "selected_feat= selected_feat.columns[(sel.get_support())]\n",
        "len(selected_feat)\n",
        "\n",
        "print(selected_feat)\n",
        "\n",
        "arenged = np.arange(len(odors))  \n",
        "plt.bar(arenged, sel.estimator_.feature_importances_.ravel())\n",
        "plt.xticks(arenged, odors, rotation= 45)  \n",
        "plt.show()\n"
      ],
      "execution_count": null,
      "outputs": [
        {
          "output_type": "stream",
          "name": "stdout",
          "text": [
            "Coefficients Of Features:  [0.09726536 0.1818398  0.05028065 0.09057216 0.06275533 0.14402729\n",
            " 0.12668902 0.24657039]\n",
            "Threshold:  0.125\n",
            "[False  True False False False  True  True  True]\n",
            "\n",
            "Index(['Onion', 'Smoke', 'Soap', 'Natural Gas'], dtype='object')\n"
          ]
        },
        {
          "output_type": "display_data",
          "data": {
            "image/png": "[encoded data removed]",
            "text/plain": [
              "<Figure size 432x288 with 1 Axes>"
            ]
          },
          "metadata": {
            "needs_background": "light"
          }
        }
      ]
    }
  ]
}